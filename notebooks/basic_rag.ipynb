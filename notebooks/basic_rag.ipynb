{
 "cells": [
  {
   "cell_type": "markdown",
   "id": "98eae2fe",
   "metadata": {},
   "source": [
    "# 1 Imports"
   ]
  },
  {
   "cell_type": "code",
   "execution_count": 1,
   "id": "1acaeb88",
   "metadata": {},
   "outputs": [],
   "source": [
    "import pandas as pd\n",
    "import numpy as np\n",
    "import pypdf\n",
    "import os\n",
    "import requests\n",
    "\n",
    "from langchain.document_loaders import PyPDFLoader\n",
    "from langchain.text_splitter import RecursiveCharacterTextSplitter\n",
    "from langchain.embeddings import HuggingFaceEmbeddings\n",
    "from langchain.vectorstores import Chroma"
   ]
  },
  {
   "cell_type": "code",
   "execution_count": 2,
   "id": "eb85b35a",
   "metadata": {
    "scrolled": false
   },
   "outputs": [],
   "source": [
    "from dotenv import load_dotenv"
   ]
  },
  {
   "cell_type": "markdown",
   "id": "408dc5b6",
   "metadata": {},
   "source": [
    "# 2 Paths and envs"
   ]
  },
  {
   "cell_type": "markdown",
   "id": "503c6753",
   "metadata": {},
   "source": [
    "Load envs and paths"
   ]
  },
  {
   "cell_type": "code",
   "execution_count": 3,
   "id": "73ac6f90",
   "metadata": {},
   "outputs": [
    {
     "data": {
      "text/plain": [
       "True"
      ]
     },
     "execution_count": 3,
     "metadata": {},
     "output_type": "execute_result"
    }
   ],
   "source": [
    "load_dotenv('.env')"
   ]
  },
  {
   "cell_type": "code",
   "execution_count": 4,
   "id": "8be4ec21",
   "metadata": {},
   "outputs": [],
   "source": [
    "# Data folder\n",
    "data_folder = r\"../data\" \n",
    "\n",
    "DOC_PATH = os.path.join(data_folder, os.listdir(data_folder)[0])"
   ]
  },
  {
   "cell_type": "code",
   "execution_count": 5,
   "id": "b5491ca8",
   "metadata": {},
   "outputs": [],
   "source": [
    "# API keys\n",
    "OPENAI_API_KEY = os.environ['OPENAI_API_KEY']\n",
    "llangchain_key = os.environ['LANGCHAIN_API_KEY']"
   ]
  },
  {
   "cell_type": "markdown",
   "id": "19e2c2ae",
   "metadata": {},
   "source": [
    "# 3 Ingestion"
   ]
  },
  {
   "cell_type": "markdown",
   "id": "70a888a9",
   "metadata": {},
   "source": [
    "### 3.1 Loaders"
   ]
  },
  {
   "cell_type": "code",
   "execution_count": 6,
   "id": "0b294a36",
   "metadata": {},
   "outputs": [],
   "source": [
    "loader = PyPDFLoader(DOC_PATH)"
   ]
  },
  {
   "cell_type": "code",
   "execution_count": 7,
   "id": "ab424b22",
   "metadata": {},
   "outputs": [],
   "source": [
    "pages = loader.load()"
   ]
  },
  {
   "cell_type": "markdown",
   "id": "8d7f0204",
   "metadata": {},
   "source": [
    "### 3.2 Chunks"
   ]
  },
  {
   "cell_type": "code",
   "execution_count": 8,
   "id": "aae29492",
   "metadata": {},
   "outputs": [],
   "source": [
    "text_splitter = RecursiveCharacterTextSplitter(chunk_size=1500, chunk_overlap=200)\n",
    "chunks = text_splitter.split_documents(pages)"
   ]
  },
  {
   "cell_type": "markdown",
   "id": "3e3ef007",
   "metadata": {},
   "source": [
    "### 3.3 Embeddings"
   ]
  },
  {
   "cell_type": "code",
   "execution_count": 9,
   "id": "51a41e1e",
   "metadata": {},
   "outputs": [],
   "source": [
    "texts = [chunk.page_content for chunk in chunks]"
   ]
  },
  {
   "cell_type": "code",
   "execution_count": 10,
   "id": "7c3fc4c8",
   "metadata": {},
   "outputs": [
    {
     "name": "stderr",
     "output_type": "stream",
     "text": [
      "/var/folders/k9/5pltbry913j14hl4yfx1zmxm0000gn/T/ipykernel_94750/1256345761.py:1: LangChainDeprecationWarning: The class `HuggingFaceEmbeddings` was deprecated in LangChain 0.2.2 and will be removed in 1.0. An updated version of the class exists in the :class:`~langchain-huggingface package and should be used instead. To use it run `pip install -U :class:`~langchain-huggingface` and import as `from :class:`~langchain_huggingface import HuggingFaceEmbeddings``.\n",
      "  embed = HuggingFaceEmbeddings()\n",
      "/var/folders/k9/5pltbry913j14hl4yfx1zmxm0000gn/T/ipykernel_94750/1256345761.py:1: LangChainDeprecationWarning: Default values for HuggingFaceEmbeddings.model_name were deprecated in LangChain 0.2.16 and will be removed in 0.4.0. Explicitly pass a model_name to the HuggingFaceEmbeddings constructor instead.\n",
      "  embed = HuggingFaceEmbeddings()\n",
      "/Users/darwindiaz/Documents/Programming/15_86 projects/coffee_chat/venv/lib/python3.9/site-packages/sentence_transformers/cross_encoder/CrossEncoder.py:13: TqdmWarning: IProgress not found. Please update jupyter and ipywidgets. See https://ipywidgets.readthedocs.io/en/stable/user_install.html\n",
      "  from tqdm.autonotebook import tqdm, trange\n"
     ]
    }
   ],
   "source": [
    "embed = HuggingFaceEmbeddings()"
   ]
  },
  {
   "cell_type": "markdown",
   "id": "2da0575f",
   "metadata": {},
   "source": [
    "### 3.4 Vector DB"
   ]
  },
  {
   "cell_type": "code",
   "execution_count": 11,
   "id": "1c4ec9f6",
   "metadata": {},
   "outputs": [],
   "source": [
    "CHROMA_PATH = \"test\""
   ]
  },
  {
   "cell_type": "code",
   "execution_count": 12,
   "id": "fc185bdd",
   "metadata": {},
   "outputs": [],
   "source": [
    "# embed the chunks as vectors and load them into the database\n",
    "db_chroma = Chroma.from_documents(documents=chunks,embedding=embed, persist_directory=CHROMA_PATH)"
   ]
  },
  {
   "cell_type": "markdown",
   "id": "e4a1fe74",
   "metadata": {},
   "source": [
    "### 3.5 POST request to the server"
   ]
  },
  {
   "cell_type": "code",
   "execution_count": 14,
   "id": "148d9a0f",
   "metadata": {},
   "outputs": [],
   "source": [
    "base_url = 'http://localhost:8080'"
   ]
  },
  {
   "cell_type": "code",
   "execution_count": 15,
   "id": "e8593eb7",
   "metadata": {},
   "outputs": [],
   "source": [
    "def get_server_health():\n",
    "    response = requests.get(f'{base_url}/health')\n",
    "    return response.json()"
   ]
  },
  {
   "cell_type": "code",
   "execution_count": 16,
   "id": "ab8125f9",
   "metadata": {},
   "outputs": [],
   "source": [
    "def post_completion(user_input):\n",
    "\n",
    "    # Vector DB search\n",
    "    docs = db_chroma.similarity_search_with_score(query, k=15)\n",
    "\n",
    "    # Context\n",
    "    context = \"\\n\\n\".join([doc.page_content for doc, _score in docs])\n",
    "\n",
    "    prompt = f\"{context}\\nUser: {user_input}\\nAssistant:\"\n",
    "    data = {\n",
    "        'prompt': prompt,\n",
    "        'temperature': 0.6,\n",
    "        'top_k': 20,\n",
    "        'top_p': 0.95,\n",
    "        'n_predict': 400,\n",
    "        'stop': [\"</s>\", \"Assistant:\", \"User:\"]\n",
    "    }\n",
    "    headers = {'Content-Type': 'application/json'}\n",
    "    response = requests.post(f'{base_url}/completion', json=data, headers=headers)\n",
    "    if response.status_code == 200:\n",
    "        return response.json()['content'].strip()\n",
    "    else:\n",
    "        return \"Error processing your request. Please try again.\""
   ]
  },
  {
   "cell_type": "code",
   "execution_count": 13,
   "id": "0acf8981",
   "metadata": {},
   "outputs": [],
   "source": [
    "# this is an example of a user question (query)\n",
    "query = 'Tell me about the neccesarry permissions for coffee exports'"
   ]
  },
  {
   "cell_type": "code",
   "execution_count": 17,
   "id": "f6f57718",
   "metadata": {},
   "outputs": [
    {
     "data": {
      "text/plain": [
       "'In order to export coffee, you need to have the following permissions: \\n1. Permission to export \\n2. Permission to export coffee\\n3. Permission to export coffee with a certain quality level\\n4. Permission to export coffee with a certain quality level and a certain country of origin\\n5. Permission to export coffee with a certain quality level, a certain country of origin, and a certain destination'"
      ]
     },
     "execution_count": 17,
     "metadata": {},
     "output_type": "execute_result"
    }
   ],
   "source": [
    "post_completion(user_input=query)"
   ]
  },
  {
   "cell_type": "code",
   "execution_count": 18,
   "id": "2ae30d8a",
   "metadata": {},
   "outputs": [],
   "source": [
    "query2  = \"What certifications do I need?\""
   ]
  },
  {
   "cell_type": "code",
   "execution_count": 19,
   "id": "b4cbc923",
   "metadata": {},
   "outputs": [
    {
     "data": {
      "text/plain": [
       "'You need the following certifications:  \\n \\n\\uf0b7 IHCAFE (Instituto Hondureño de Café)  \\n\\uf0b7 IHCAFE (Instituto Hondureño de Café)  \\n\\uf0b7 IHCAFE (Instituto Hondureño de Café)  \\n\\uf0b7 IHCAFE (Instituto Hondureño de Café)  \\n\\uf0b7 IHCAFE (Instituto Hondureño de Café)  \\n\\uf0b7 IHCAFE (Instituto Hondureño de Café)  \\n\\uf0b7 IHCAFE (Instituto Hondureño de Café)  \\n\\uf0b7 IHCAFE (Instituto Hondureño de Café)  \\n\\uf0b7 IHCAFE (Instituto Hondureño de Café)  \\n\\uf0b7 IHCAFE (Instituto Hondureño de Café)  \\n\\uf0b7 IHCAFE (Instituto Hondureño de Café)  \\n\\uf0b7 IHCAFE (Instituto Hondureño de Café)  \\n\\uf0b7 IHCAFE (Instituto Hondureño de Café)  \\n\\uf0b7 IHCAFE (Instituto Hondureño de Café)  \\n\\uf0b7 IHCAFE (Instituto Hondureño de Café)  \\n\\uf0b7 IHCAFE (Instituto Hondureño de Café)  \\n\\uf0b7 IHCAFE (Instituto Hondureño de Café)  \\n\\uf0b7 IHCAFE (Instituto Hondureño de Café)  \\n\\uf0b7 IHCAFE (Instituto Hondureño de Café)  \\n\\uf0b7 IHCAFE (Instituto Hondureño de Café)  \\n\\uf0b7 IHCAFE (Instituto Hondureño de Café)  \\n\\uf0b7 IHCAFE (Instituto Hondureño de Café)  \\n\\uf0b7 IHCAFE (Instituto Hondureño de Café)  \\n\\uf0b7 IHCAFE (Instituto Hondureño de Café)  \\n\\uf0b7 IHCAFE (Instit'"
      ]
     },
     "execution_count": 19,
     "metadata": {},
     "output_type": "execute_result"
    }
   ],
   "source": [
    "post_completion(query2)"
   ]
  },
  {
   "cell_type": "code",
   "execution_count": null,
   "id": "4906fd1e",
   "metadata": {},
   "outputs": [],
   "source": []
  }
 ],
 "metadata": {
  "kernelspec": {
   "display_name": "Python 3 (ipykernel)",
   "language": "python",
   "name": "python3"
  },
  "language_info": {
   "codemirror_mode": {
    "name": "ipython",
    "version": 3
   },
   "file_extension": ".py",
   "mimetype": "text/x-python",
   "name": "python",
   "nbconvert_exporter": "python",
   "pygments_lexer": "ipython3",
   "version": "3.9.20"
  }
 },
 "nbformat": 4,
 "nbformat_minor": 5
}
